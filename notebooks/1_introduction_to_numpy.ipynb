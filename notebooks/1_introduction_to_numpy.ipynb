{
  "nbformat": 4,
  "nbformat_minor": 0,
  "metadata": {
    "colab": {
      "name": "1-introduction-to-numpy.ipynb",
      "version": "0.3.2",
      "provenance": [],
      "collapsed_sections": []
    },
    "kernelspec": {
      "name": "python3",
      "display_name": "Python 3"
    }
  },
  "cells": [
    {
      "metadata": {
        "id": "QK_fnPiEeKoJ",
        "colab_type": "code",
        "colab": {}
      },
      "cell_type": "code",
      "source": [
        "import numpy as np\n",
        "x = np.array([1,2,3,])\n",
        "a = np.zeros((2,2))\n",
        "b = np.ones((2,2))\n",
        "c = np.random.randint(10,size= (5))\n",
        "\n"
      ],
      "execution_count": 0,
      "outputs": []
    },
    {
      "metadata": {
        "id": "gBU2M2AIisw5",
        "colab_type": "code",
        "colab": {}
      },
      "cell_type": "code",
      "source": [
        "x =  np.array([[1,2],[3,4]])\n",
        "print (np.sum(x))\n",
        "print (np.sum(x, axis=0))\n",
        "print (np.sum(x, axis=1 ))"
      ],
      "execution_count": 0,
      "outputs": []
    },
    {
      "metadata": {
        "id": "A1dcVnvhrax-",
        "colab_type": "text"
      },
      "cell_type": "markdown",
      "source": [
        "Exercise for Numpy"
      ]
    },
    {
      "metadata": {
        "id": "Cgb5hpKTjfOx",
        "colab_type": "code",
        "colab": {
          "base_uri": "https://localhost:8080/",
          "height": 731
        },
        "outputId": "c392954d-2ec3-4af6-a159-5bf665d074e2"
      },
      "cell_type": "code",
      "source": [
        "import numpy as np\n",
        "A = np.array([[22,5,16,9],[13,20,19,0],[5,9,1,16],[27,13,15,19]])\n",
        "B = np.array([[10,5,20,20],[5,21,22,27],[26,19,22,3],[27,8,18,7]])\n",
        "c = np.array([24,3,17,7,11,2,21,2,24,18,3,11,14,25,2,20])\n",
        "d = np.array([3,15,24,22,19,24,4,29,6,3,20,1,11,25,26,6])\n",
        "\n",
        "print(A+B)\n",
        "print(A-B)\n",
        "print(A*B)\n",
        "print(np.dot(A, B))\n",
        "print(c+d)\n",
        "print(c-d)\n",
        "print(c*d)\n",
        "print(np.dot(c,d))\n",
        "print(A+10)\n",
        "print(B+10)\n",
        "print(c+15)\n",
        "print(d+15)\n",
        "print((2*A)+(2*B))\n",
        "print((np.dot((A+B),3)))\n",
        "print((A-B+A-B+B)*4)"
      ],
      "execution_count": 15,
      "outputs": [
        {
          "output_type": "stream",
          "text": [
            "[[32 10 36 29]\n",
            " [18 41 41 27]\n",
            " [31 28 23 19]\n",
            " [54 21 33 26]]\n",
            "[[ 12   0  -4 -11]\n",
            " [  8  -1  -3 -27]\n",
            " [-21 -10 -21  13]\n",
            " [  0   5  -3  12]]\n",
            "[[220  25 320 180]\n",
            " [ 65 420 418   0]\n",
            " [130 171  22  48]\n",
            " [729 104 270 133]]\n",
            "[[ 904  591 1064  686]\n",
            " [ 724  846 1118  857]\n",
            " [ 553  361  608  458]\n",
            " [1238  845 1498 1069]]\n",
            "[27 18 41 29 30 26 25 31 30 21 23 12 25 50 28 26]\n",
            "[ 21 -12  -7 -15  -8 -22  17 -27  18  15 -17  10   3   0 -24  14]\n",
            "[ 72  45 408 154 209  48  84  58 144  54  60  11 154 625  52 120]\n",
            "2298\n",
            "[[32 15 26 19]\n",
            " [23 30 29 10]\n",
            " [15 19 11 26]\n",
            " [37 23 25 29]]\n",
            "[[20 15 30 30]\n",
            " [15 31 32 37]\n",
            " [36 29 32 13]\n",
            " [37 18 28 17]]\n",
            "[39 18 32 22 26 17 36 17 39 33 18 26 29 40 17 35]\n",
            "[18 30 39 37 34 39 19 44 21 18 35 16 26 40 41 21]\n",
            "[[ 64  20  72  58]\n",
            " [ 36  82  82  54]\n",
            " [ 62  56  46  38]\n",
            " [108  42  66  52]]\n",
            "[[ 96  30 108  87]\n",
            " [ 54 123 123  81]\n",
            " [ 93  84  69  57]\n",
            " [162  63  99  78]]\n",
            "[[ 136   20   48   -8]\n",
            " [  84   76   64 -108]\n",
            " [ -64   -4  -80  116]\n",
            " [ 108   72   48  124]]\n"
          ],
          "name": "stdout"
        }
      ]
    }
  ]
}